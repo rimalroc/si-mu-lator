{
 "cells": [
  {
   "cell_type": "code",
   "execution_count": 15,
   "id": "38062126-907a-44e5-bd98-e102a674eee8",
   "metadata": {},
   "outputs": [
    {
     "data": {
      "image/png": "[encoded data removed]",
      "text/plain": [
       "<Figure size 748.8x514.8 with 1 Axes>"
      ]
     },
     "metadata": {
      "needs_background": "light"
     },
     "output_type": "display_data"
    }
   ],
   "source": [
    "import matplotlib.pyplot as plt\n",
    "import numpy as np\n",
    "\n",
    "# Setting the style to have a dark background\n",
    "plt.style.use('seaborn-talk')\n",
    "\n",
    "# Creating the figure and axis objects\n",
    "fig, ax = plt.subplots()\n",
    "\n",
    "# Setting the axes background color\n",
    "#ax.set_facecolor('black')\n",
    "\n",
    "# Defining the axis ranges\n",
    "ax.set_xlim(5.0, 10.0)\n",
    "ax.set_ylim(0, 6)\n",
    "\n",
    "# Adding the axes labels\n",
    "ax.set_xlabel('z [m]', color='black')\n",
    "ax.set_ylabel('x [m]', color='black')\n",
    "\n",
    "# Customizing the ticks and tick labels\n",
    "ax.xaxis.set_ticks(np.arange(6, 10, 2))\n",
    "ax.yaxis.set_ticks(np.arange(2, 6, 4))\n",
    "ax.tick_params(axis='x', colors='black')\n",
    "ax.tick_params(axis='y', colors='black')\n",
    "\n",
    "# Drawing a solid white diagonal line\n",
    "x_diagonal = np.array([2.7, 3.9])\n",
    "y_diagonal = np.interp(x_diagonal, [2.7, 3.9], [13.0, 15.0])\n",
    "ax.plot(y_diagonal, x_diagonal, color='black', linestyle='-', linewidth=2)\n",
    "\n",
    "# Adding vertical bars (M1, M2, M3)\n",
    "bar_positions = [7]\n",
    "bar_heights = [4.5]  # Example heights, adjust as needed\n",
    "bar_labels = ['NSW']\n",
    "for pos, height, label in zip(bar_positions, bar_heights, bar_labels):\n",
    "    ax.bar(pos, height, bottom=1.0, width=0.365,\n",
    "           color='white', edgecolor='black', label=label)\n",
    "    ax.text(pos, 2.9, label, color='black', ha='center')\n",
    "\n",
    "# Adding a dashed horizontal line intersecting M1 at midpoint\n",
    "#m1_midpoint = 3.0 + bar_heights[0] / 2\n",
    "#ax.hlines(m1_midpoint, 13.0, 15.0, colors='black',\n",
    "#          linestyles='dashed', linewidth=1)\n",
    "#ax.text(13.6, m1_midpoint, 'O', color='black', ha='left', va='center')\n",
    "\n",
    "# Drawing a white arrow at the end of the diagonal line\n",
    "#ax.arrow(14.8, 3.7, 0.1, 0.1, head_width=0.05,\n",
    "#         head_length=0.05, fc='black', ec='black')\n",
    "\n",
    "# Display the plot\n",
    "plt.show()\n"
   ]
  },
  {
   "cell_type": "code",
   "execution_count": 4,
   "id": "28e893e8-1d79-48eb-a715-1350dc0ea65d",
   "metadata": {},
   "outputs": [
    {
     "data": {
      "text/plain": [
       "['Solarize_Light2',\n",
       " '_classic_test_patch',\n",
       " '_mpl-gallery',\n",
       " '_mpl-gallery-nogrid',\n",
       " 'bmh',\n",
       " 'classic',\n",
       " 'dark_background',\n",
       " 'fast',\n",
       " 'fivethirtyeight',\n",
       " 'ggplot',\n",
       " 'grayscale',\n",
       " 'seaborn',\n",
       " 'seaborn-bright',\n",
       " 'seaborn-colorblind',\n",
       " 'seaborn-dark',\n",
       " 'seaborn-dark-palette',\n",
       " 'seaborn-darkgrid',\n",
       " 'seaborn-deep',\n",
       " 'seaborn-muted',\n",
       " 'seaborn-notebook',\n",
       " 'seaborn-paper',\n",
       " 'seaborn-pastel',\n",
       " 'seaborn-poster',\n",
       " 'seaborn-talk',\n",
       " 'seaborn-ticks',\n",
       " 'seaborn-white',\n",
       " 'seaborn-whitegrid',\n",
       " 'tableau-colorblind10']"
      ]
     },
     "execution_count": 4,
     "metadata": {},
     "output_type": "execute_result"
    }
   ],
   "source": [
    "plt.style.available"
   ]
  },
  {
   "cell_type": "code",
   "execution_count": null,
   "id": "6b8540ff-7e22-4c14-9efd-4a750de6c81e",
   "metadata": {},
   "outputs": [],
   "source": []
  }
 ],
 "metadata": {
  "kernelspec": {
   "display_name": "Python 3",
   "language": "python",
   "name": "python3"
  },
  "language_info": {
   "codemirror_mode": {
    "name": "ipython",
    "version": 3
   },
   "file_extension": ".py",
   "mimetype": "text/x-python",
   "name": "python",
   "nbconvert_exporter": "python",
   "pygments_lexer": "ipython3",
   "version": "3.7.8"
  }
 },
 "nbformat": 4,
 "nbformat_minor": 5
}
